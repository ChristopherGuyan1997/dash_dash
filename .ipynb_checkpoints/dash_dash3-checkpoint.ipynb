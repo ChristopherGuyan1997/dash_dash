{
 "cells": [
  {
   "cell_type": "code",
   "execution_count": 1,
   "metadata": {
    "pycharm": {
     "is_executing": false
    }
   },
   "outputs": [],
   "source": [
    "import pandas as pd\n",
    "import plotly.graph_objs as go\n",
    "import dash\n",
    "import dash_core_components as dcc                  # 交互式组件\n",
    "import dash_html_components as html                 # 代码转html\n",
    "from dash.dependencies import Input, Output         # 回调\n",
    "from jupyter_plotly_dash import JupyterDash         # Jupyter中的Dash\n"
   ]
  },
  {
   "cell_type": "code",
   "execution_count": 2,
   "metadata": {},
   "outputs": [
    {
     "data": {
      "text/html": [
       "<div>\n",
       "  <iframe src=\"/app/endpoints/a2c46727380649749398f4b238ab5e64/\" width=800 height=120 frameborder=\"0\"></iframe>\n",
       "  <hr/><a href=\"/app/endpoints/a2c46727380649749398f4b238ab5e64/\" target=\"_new\">Open in new window</a> for /app/endpoints/a2c46727380649749398f4b238ab5e64/\n",
       "</div>"
      ],
      "text/plain": [
       "<jupyter_plotly_dash.dash_wrapper.JupyterDash at 0x7fd5f96fe0d0>"
      ]
     },
     "execution_count": 2,
     "metadata": {},
     "output_type": "execute_result"
    }
   ],
   "source": [
    "app = JupyterDash('dropdown01', height = 120)\n",
    "app.layout = html.Div([\n",
    "    dcc.Dropdown(\n",
    "        id = 'my_dropdown',\n",
    "        options = [{'label': '北京', 'value': '北京'}, \n",
    "                   {'label': '上海', 'value': '上海'}, \n",
    "                   {'label': '深圳', 'value': '深圳'}],\n",
    "        value = '北京'),\n",
    "    html.Div(id = 'output-01')\n",
    "])\n",
    "\n",
    "@app.callback(Output('output-01', 'children'), [Input('my_dropdown', 'value')])\n",
    "def update_output(value):\n",
    "    return f\"您已经选择：【{value}】\"\n",
    "\n",
    "app"
   ]
  },
  {
   "cell_type": "code",
   "execution_count": 3,
   "metadata": {},
   "outputs": [
    {
     "data": {
      "text/html": [
       "<div>\n",
       "  <iframe src=\"/app/endpoints/6c8719e23534476baace7117dd8ec02f/\" width=800 height=120 frameborder=\"0\"></iframe>\n",
       "  <hr/><a href=\"/app/endpoints/6c8719e23534476baace7117dd8ec02f/\" target=\"_new\">Open in new window</a> for /app/endpoints/6c8719e23534476baace7117dd8ec02f/\n",
       "</div>"
      ],
      "text/plain": [
       "<jupyter_plotly_dash.dash_wrapper.JupyterDash at 0x7fd5f98e8350>"
      ]
     },
     "execution_count": 3,
     "metadata": {},
     "output_type": "execute_result"
    }
   ],
   "source": [
    "app = JupyterDash('dropdown01', height = 120)\n",
    "app.layout = html.Div([\n",
    "    dcc.Dropdown(\n",
    "        id = 'my_dropdown',\n",
    "        options = [{'label': '北京', 'value': '北京'}, \n",
    "                   {'label': '上海', 'value': '上海'}, \n",
    "                   {'label': '深圳', 'value': '深圳'}],\n",
    "        value = ['北京', '上海'],\n",
    "        multi = True),\n",
    "    html.Div(id = 'output-01')\n",
    "])\n",
    "\n",
    "@app.callback(Output('output-01', 'children'), [Input('my_dropdown', 'value')])\n",
    "def update_output(value):\n",
    "    return f\"您已经选择：【{'、'.join([val for val in value])}】\"\n",
    "\n",
    "app"
   ]
  },
  {
   "cell_type": "code",
   "execution_count": 5,
   "metadata": {},
   "outputs": [
    {
     "data": {
      "text/html": [
       "<div>\n",
       "  <iframe src=\"/app/endpoints/adb75e51e1374de4a91a5b26386be076/\" width=800 height=120 frameborder=\"0\"></iframe>\n",
       "  <hr/><a href=\"/app/endpoints/adb75e51e1374de4a91a5b26386be076/\" target=\"_new\">Open in new window</a> for /app/endpoints/adb75e51e1374de4a91a5b26386be076/\n",
       "</div>"
      ],
      "text/plain": [
       "<jupyter_plotly_dash.dash_wrapper.JupyterDash at 0x7fd5f98e8990>"
      ]
     },
     "execution_count": 5,
     "metadata": {},
     "output_type": "execute_result"
    }
   ],
   "source": [
    "app = JupyterDash('dropdown01', height = 120)\n",
    "app.layout = html.Div([\n",
    "    dcc.Dropdown(\n",
    "        id = 'my_dropdown',\n",
    "        options = [{'label': '北京', 'value': '北京'}, \n",
    "                   {'label': '上海', 'value': '上海'}, \n",
    "                   {'label': '深圳', 'value': '深圳'}],\n",
    "        searchable=False),\n",
    "    html.Div(id = 'output-01')\n",
    "])\n",
    "\n",
    "@app.callback(Output('output-01', 'children'), [Input('my_dropdown', 'value')])\n",
    "def update_output(value):\n",
    "    pass\n",
    "\n",
    "app"
   ]
  },
  {
   "cell_type": "code",
   "execution_count": 6,
   "metadata": {},
   "outputs": [
    {
     "data": {
      "text/html": [
       "<div>\n",
       "  <iframe src=\"/app/endpoints/32bb238d0e444fb7bac7512cba976d29/\" width=800 height=120 frameborder=\"0\"></iframe>\n",
       "  <hr/><a href=\"/app/endpoints/32bb238d0e444fb7bac7512cba976d29/\" target=\"_new\">Open in new window</a> for /app/endpoints/32bb238d0e444fb7bac7512cba976d29/\n",
       "</div>"
      ],
      "text/plain": [
       "<jupyter_plotly_dash.dash_wrapper.JupyterDash at 0x7fd5f9916290>"
      ]
     },
     "execution_count": 6,
     "metadata": {},
     "output_type": "execute_result"
    }
   ],
   "source": [
    "app = JupyterDash('dropdown01', height = 120)\n",
    "app.layout = html.Div([\n",
    "    dcc.Dropdown(\n",
    "        id = 'my_dropdown',\n",
    "        options = [{'label': '北京', 'value': '北京'}, \n",
    "                   {'label': '上海', 'value': '上海'}, \n",
    "                   {'label': '深圳', 'value': '深圳'}],\n",
    "        value = '北京',\n",
    "        clearable = False),\n",
    "    html.Div(id = 'output-01')\n",
    "])\n",
    "\n",
    "@app.callback(Output('output-01', 'children'), [Input('my_dropdown', 'value')])\n",
    "def update_output(value):\n",
    "    return f\"您已经选择：【{value}】\"\n",
    "\n",
    "app"
   ]
  },
  {
   "cell_type": "code",
   "execution_count": 7,
   "metadata": {},
   "outputs": [
    {
     "data": {
      "text/html": [
       "<div>\n",
       "  <iframe src=\"/app/endpoints/96bcd2e2c2af4046b8e9e825aba59a99/\" width=800 height=120 frameborder=\"0\"></iframe>\n",
       "  <hr/><a href=\"/app/endpoints/96bcd2e2c2af4046b8e9e825aba59a99/\" target=\"_new\">Open in new window</a> for /app/endpoints/96bcd2e2c2af4046b8e9e825aba59a99/\n",
       "</div>"
      ],
      "text/plain": [
       "<jupyter_plotly_dash.dash_wrapper.JupyterDash at 0x7fd5f9916650>"
      ]
     },
     "execution_count": 7,
     "metadata": {},
     "output_type": "execute_result"
    }
   ],
   "source": [
    "app = JupyterDash('dropdown01', height = 120)\n",
    "app.layout = html.Div([\n",
    "    dcc.Dropdown(\n",
    "        id = 'my_dropdown',\n",
    "        options = [{'label': '北京', 'value': '北京'}, \n",
    "                   {'label': '上海', 'value': '上海'}, \n",
    "                   {'label': '深圳', 'value': '深圳'}],\n",
    "        placeholder = '选择一个城市名称'),\n",
    "    html.Div(id = 'output-01')\n",
    "])\n",
    "\n",
    "@app.callback(Output('output-01', 'children'), [Input('my_dropdown', 'value')])\n",
    "def update_output(value):\n",
    "    pass\n",
    "\n",
    "app"
   ]
  },
  {
   "cell_type": "code",
   "execution_count": 8,
   "metadata": {},
   "outputs": [
    {
     "data": {
      "text/html": [
       "<div>\n",
       "  <iframe src=\"/app/endpoints/f6ab7b37104f438d8b82a7a147e4ea1e/\" width=800 height=120 frameborder=\"0\"></iframe>\n",
       "  <hr/><a href=\"/app/endpoints/f6ab7b37104f438d8b82a7a147e4ea1e/\" target=\"_new\">Open in new window</a> for /app/endpoints/f6ab7b37104f438d8b82a7a147e4ea1e/\n",
       "</div>"
      ],
      "text/plain": [
       "<jupyter_plotly_dash.dash_wrapper.JupyterDash at 0x7fd5f9916e10>"
      ]
     },
     "execution_count": 8,
     "metadata": {},
     "output_type": "execute_result"
    }
   ],
   "source": [
    "app = JupyterDash('dropdown01', height = 120)\n",
    "app.layout = html.Div([\n",
    "    dcc.Dropdown(\n",
    "        id = 'my_dropdown',\n",
    "        options = [{'label': '北京', 'value': '北京'}, \n",
    "                   {'label': '上海', 'value': '上海'}, \n",
    "                   {'label': '深圳', 'value': '深圳'}],\n",
    "        disabled = True),\n",
    "    html.Div(id = 'output-01')\n",
    "])\n",
    "\n",
    "@app.callback(Output('output-01', 'children'), [Input('my_dropdown', 'value')])\n",
    "def update_output(value):\n",
    "    pass\n",
    "\n",
    "app"
   ]
  },
  {
   "cell_type": "code",
   "execution_count": 9,
   "metadata": {},
   "outputs": [
    {
     "data": {
      "text/html": [
       "<div>\n",
       "  <iframe src=\"/app/endpoints/bf83fd4a77c34580ad2f536731eea3b4/\" width=800 height=150 frameborder=\"0\"></iframe>\n",
       "  <hr/><a href=\"/app/endpoints/bf83fd4a77c34580ad2f536731eea3b4/\" target=\"_new\">Open in new window</a> for /app/endpoints/bf83fd4a77c34580ad2f536731eea3b4/\n",
       "</div>"
      ],
      "text/plain": [
       "<jupyter_plotly_dash.dash_wrapper.JupyterDash at 0x7fd5f9931c50>"
      ]
     },
     "execution_count": 9,
     "metadata": {},
     "output_type": "execute_result"
    }
   ],
   "source": [
    "app = JupyterDash('dropdown01', height = 150)\n",
    "app.layout = html.Div([\n",
    "    dcc.Dropdown(\n",
    "        id = 'my_dropdown',\n",
    "        options = [{'label': '北京', 'value': '北京'}, \n",
    "                   {'label': '上海', 'value': '上海', 'disabled': True}, \n",
    "                   {'label': '深圳', 'value': '深圳'}],\n",
    "        value = '北京'),\n",
    "    html.Div(id = 'output-01')\n",
    "])\n",
    "\n",
    "@app.callback(Output('output-01', 'children'), [Input('my_dropdown', 'value')])\n",
    "def update_output(value):\n",
    "    return f\"您已经选择：【{value}】\"\n",
    "\n",
    "app"
   ]
  },
  {
   "cell_type": "code",
   "execution_count": 11,
   "metadata": {},
   "outputs": [
    {
     "data": {
      "text/html": [
       "<div>\n",
       "  <iframe src=\"/app/endpoints/1c8b593bd51c452f897457dc47dc0a7c/\" width=800 height=120 frameborder=\"0\"></iframe>\n",
       "  <hr/><a href=\"/app/endpoints/1c8b593bd51c452f897457dc47dc0a7c/\" target=\"_new\">Open in new window</a> for /app/endpoints/1c8b593bd51c452f897457dc47dc0a7c/\n",
       "</div>"
      ],
      "text/plain": [
       "<jupyter_plotly_dash.dash_wrapper.JupyterDash at 0x7fd5f99702d0>"
      ]
     },
     "execution_count": 11,
     "metadata": {},
     "output_type": "execute_result"
    }
   ],
   "source": [
    "app = JupyterDash('slider', height = 120)\n",
    "\n",
    "app.layout = html.Div([\n",
    "    dcc.Slider(\n",
    "        id = 'my-slider',\n",
    "        min = 0,\n",
    "        max = 20,\n",
    "        step = 0.5,\n",
    "        value = 10),\n",
    "    html.Div(id = 'slider-output-container')\n",
    "])\n",
    "\n",
    "@app.callback(Output('slider-output-container', 'children'), [Input('my-slider', 'value')])\n",
    "def update_output(value):\n",
    "    return f\"你已选择到：{value}\"\n",
    "\n",
    "app"
   ]
  },
  {
   "cell_type": "code",
   "execution_count": 19,
   "metadata": {},
   "outputs": [
    {
     "data": {
      "text/html": [
       "<div>\n",
       "  <iframe src=\"/app/endpoints/2c7994a53c204300a0c0853906be2b55/\" width=800 height=120 frameborder=\"0\"></iframe>\n",
       "  <hr/><a href=\"/app/endpoints/2c7994a53c204300a0c0853906be2b55/\" target=\"_new\">Open in new window</a> for /app/endpoints/2c7994a53c204300a0c0853906be2b55/\n",
       "</div>"
      ],
      "text/plain": [
       "<jupyter_plotly_dash.dash_wrapper.JupyterDash at 0x7fd5f9970110>"
      ]
     },
     "execution_count": 19,
     "metadata": {},
     "output_type": "execute_result"
    }
   ],
   "source": [
    "app = JupyterDash('slider', height = 120)\n",
    "app.layout = html.Div([\n",
    "    dcc.Slider(\n",
    "        min = 0,\n",
    "        max = 10,\n",
    "        step = None,\n",
    "        marks = {0: '0 °F', 3: '3 °F', 5: '5 °F', 7.65: '7.65 °F', 10: '10 °F'},\n",
    "        value = 7.65\n",
    "    )],\n",
    "    style = dict(padding = '5px'),\n",
    ")\n",
    "\n",
    "app"
   ]
  },
  {
   "cell_type": "code",
   "execution_count": 21,
   "metadata": {},
   "outputs": [
    {
     "data": {
      "text/html": [
       "<div>\n",
       "  <iframe src=\"/app/endpoints/2d9fd5d432f84d07b675d10a4e7debbb/\" width=800 height=120 frameborder=\"0\"></iframe>\n",
       "  \n",
       "</div>"
      ],
      "text/plain": [
       "<jupyter_plotly_dash.dash_wrapper.JupyterDash at 0x7fd5f9978610>"
      ]
     },
     "execution_count": 21,
     "metadata": {},
     "output_type": "execute_result"
    }
   ],
   "source": [
    "app = JupyterDash('slider', height = 120)\n",
    "app.add_external_link = False\n",
    "app.layout = html.Div([\n",
    "    dcc.Slider(\n",
    "        min = 0, \n",
    "        max = 100,\n",
    "        value = 65,\n",
    "        included=False,\n",
    "        marks = {\n",
    "            0: {'label': '0 °C', 'style': {'color': '#77b0b1'}},\n",
    "            26: {'label': '26 °C'},\n",
    "            37: {'label': '37 °C'},\n",
    "            100: {'label': '100 °C', 'style': {'color': '#f50'}}\n",
    "        })],\n",
    "    style = dict(padding = '5px')\n",
    ")\n",
    "\n",
    "app"
   ]
  },
  {
   "cell_type": "code",
   "execution_count": 22,
   "metadata": {},
   "outputs": [
    {
     "data": {
      "text/html": [
       "<div>\n",
       "  <iframe src=\"/app/endpoints/d7eba16aec2f4205b300cb3cf0e9d572/\" width=800 height=120 frameborder=\"0\"></iframe>\n",
       "  \n",
       "</div>"
      ],
      "text/plain": [
       "<jupyter_plotly_dash.dash_wrapper.JupyterDash at 0x7fd5f9993110>"
      ]
     },
     "execution_count": 22,
     "metadata": {},
     "output_type": "execute_result"
    }
   ],
   "source": [
    "app = JupyterDash('slider', height = 120)\n",
    "app.add_external_link = False\n",
    "app.layout = html.Div([\n",
    "    dcc.Slider(\n",
    "        id = 'slider-updatemode',\n",
    "        max = 3, \n",
    "        step = 0.01,\n",
    "        value = 2,\n",
    "        updatemode = 'drag',\n",
    "        marks = {i: f\"{str(10 ** i)}\" for i in range(4)}),\n",
    "    html.Div(id = 'updatemode-output-container', style = dict(marginTop = 20,))],\n",
    "    style = dict(padding = '5px'))\n",
    "\n",
    "@app.callback(Output('updatemode-output-container', 'children'), [Input('slider-updatemode', 'value')])\n",
    "def display_value(value):\n",
    "    return f\"线性值：{value} | 对数值：{value ** 10}\"\n",
    "\n",
    "app"
   ]
  },
  {
   "cell_type": "code",
   "execution_count": 23,
   "metadata": {},
   "outputs": [
    {
     "data": {
      "text/html": [
       "<div>\n",
       "  <iframe src=\"/app/endpoints/6320132e75da47b6bdd93e8aab989e88/\" width=800 height=120 frameborder=\"0\"></iframe>\n",
       "  \n",
       "</div>"
      ],
      "text/plain": [
       "<jupyter_plotly_dash.dash_wrapper.JupyterDash at 0x7fd5f99a0350>"
      ]
     },
     "execution_count": 23,
     "metadata": {},
     "output_type": "execute_result"
    }
   ],
   "source": [
    "app = JupyterDash('range_slider', height = 120)\n",
    "app.add_external_link = False\n",
    "app.layout = html.Div([\n",
    "    dcc.RangeSlider(\n",
    "        id = 'my-range-slider',\n",
    "        min = 0,\n",
    "        max = 20,\n",
    "        step = 0.5,\n",
    "        value = [5, 15]),\n",
    "    html.Div(id = 'output-container-range-slider')\n",
    "])\n",
    "\n",
    "@app.callback(Output('output-container-range-slider', 'children'), [Input('my-range-slider', 'value')])\n",
    "def update_output(value):\n",
    "    return f\"你选择的范围：{value}\"\n",
    "\n",
    "app"
   ]
  },
  {
   "cell_type": "code",
   "execution_count": 24,
   "metadata": {},
   "outputs": [
    {
     "data": {
      "text/html": [
       "<div>\n",
       "  <iframe src=\"/app/endpoints/6108b8eab81f436f9913dfd7b52594c6/\" width=800 height=120 frameborder=\"0\"></iframe>\n",
       "  \n",
       "</div>"
      ],
      "text/plain": [
       "<jupyter_plotly_dash.dash_wrapper.JupyterDash at 0x7fd5f99a0910>"
      ]
     },
     "execution_count": 24,
     "metadata": {},
     "output_type": "execute_result"
    }
   ],
   "source": [
    "app = JupyterDash('range_slider', height = 120)\n",
    "app.add_external_link = False\n",
    "app.layout = html.Div([\n",
    "    dcc.RangeSlider(\n",
    "        min = 0,\n",
    "        max = 10,\n",
    "        step = None,\n",
    "        marks = {0: '0 °F', 3: '3 °F', 5: '5 °F', 7.65: '7.65 °F', 10: '10 °F'},\n",
    "        value = [3, 7.65]\n",
    "    )],\n",
    "    style = dict(padding = '5px'),\n",
    ")\n",
    "\n",
    "app"
   ]
  },
  {
   "cell_type": "code",
   "execution_count": 25,
   "metadata": {},
   "outputs": [
    {
     "data": {
      "text/html": [
       "<div>\n",
       "  <iframe src=\"/app/endpoints/6831864603b049db9174918259879a63/\" width=800 height=120 frameborder=\"0\"></iframe>\n",
       "  \n",
       "</div>"
      ],
      "text/plain": [
       "<jupyter_plotly_dash.dash_wrapper.JupyterDash at 0x7fd5f99a0150>"
      ]
     },
     "execution_count": 25,
     "metadata": {},
     "output_type": "execute_result"
    }
   ],
   "source": [
    "app = JupyterDash('range_slider', height = 120)\n",
    "app.add_external_link = False\n",
    "app.layout = html.Div([\n",
    "    dcc.RangeSlider(\n",
    "        min = 0, \n",
    "        max = 100,\n",
    "        value = [10, 65],\n",
    "        included=False,\n",
    "        marks = {\n",
    "            0: {'label': '0 °C', 'style': {'color': '#77b0b1'}},\n",
    "            26: {'label': '26 °C'},\n",
    "            37: {'label': '37 °C'},\n",
    "            100: {'label': '100 °C', 'style': {'color': '#f50'}}\n",
    "        })],\n",
    "    style = dict(padding = '5px')\n",
    ")\n",
    "\n",
    "app"
   ]
  },
  {
   "cell_type": "code",
   "execution_count": 26,
   "metadata": {},
   "outputs": [
    {
     "data": {
      "text/html": [
       "<div>\n",
       "  <iframe src=\"/app/endpoints/6fbf50632d574ebc9f0c8bb7870c7b58/\" width=800 height=120 frameborder=\"0\"></iframe>\n",
       "  \n",
       "</div>"
      ],
      "text/plain": [
       "<jupyter_plotly_dash.dash_wrapper.JupyterDash at 0x7fd5f9978c90>"
      ]
     },
     "execution_count": 26,
     "metadata": {},
     "output_type": "execute_result"
    }
   ],
   "source": [
    "app = JupyterDash('range_slider', height = 120)\n",
    "app.add_external_link = False\n",
    "app.layout = html.Div([\n",
    "    dcc.RangeSlider(\n",
    "        min=0,\n",
    "        max=30,\n",
    "        value=[1, 3, 4, 5, 12, 17])],\n",
    "    style = dict(padding = '5px')\n",
    ")\n",
    "\n",
    "app"
   ]
  },
  {
   "cell_type": "code",
   "execution_count": 27,
   "metadata": {},
   "outputs": [
    {
     "data": {
      "text/html": [
       "<div>\n",
       "  <iframe src=\"/app/endpoints/9fce3e4ef7df420d82957cfbfd6a6dd2/\" width=800 height=120 frameborder=\"0\"></iframe>\n",
       "  \n",
       "</div>"
      ],
      "text/plain": [
       "<jupyter_plotly_dash.dash_wrapper.JupyterDash at 0x7fd5f99a0090>"
      ]
     },
     "execution_count": 27,
     "metadata": {},
     "output_type": "execute_result"
    }
   ],
   "source": [
    "app = JupyterDash('range_slider', height = 120)\n",
    "app.add_external_link = False\n",
    "app.layout = html.Div([\n",
    "    dcc.RangeSlider(\n",
    "        min=0,\n",
    "        max=30,\n",
    "        value=[8, 10, 15, 17, 20],\n",
    "        pushable=2)],\n",
    "    style = dict(padding = '5px')\n",
    ")\n",
    "\n",
    "app\n"
   ]
  },
  {
   "cell_type": "code",
   "execution_count": null,
   "metadata": {},
   "outputs": [],
   "source": [
    "app = JupyterDash('range_slider', height = 120)\n",
    "app.add_external_link = False\n",
    "app.layout = html.Div([\n",
    "    dcc.RangeSlider(\n",
    "        min=0,\n",
    "        max=30,\n",
    "        value=[10, 15],\n",
    "        allowCross=False)],\n",
    "    style = dict(padding = '5px')\n",
    ")\n",
    "\n",
    "app"
   ]
  },
  {
   "cell_type": "code",
   "execution_count": 28,
   "metadata": {},
   "outputs": [
    {
     "data": {
      "text/html": [
       "<div>\n",
       "  <iframe src=\"/app/endpoints/3f31695e301a4809b85eef9b1d40b0fc/\" width=800 height=120 frameborder=\"0\"></iframe>\n",
       "  \n",
       "</div>"
      ],
      "text/plain": [
       "<jupyter_plotly_dash.dash_wrapper.JupyterDash at 0x7fd5f99b0a50>"
      ]
     },
     "execution_count": 28,
     "metadata": {},
     "output_type": "execute_result"
    }
   ],
   "source": [
    "app = JupyterDash('input', height = 120)\n",
    "app.add_external_link = False\n",
    "allowed_types = (\"text\", \"number\", \"password\", \"email\", \"search\", \"tel\", \"url\", \"range\", \"hidden\")\n",
    "app.layout = html.Div([\n",
    "    dcc.Input(\n",
    "        id = f\"input_{t}\",\n",
    "        type = t,\n",
    "        placeholder = f\"input type {t}\") for t in allowed_types]\n",
    "    + [html.Div(id=\"out-all-types\")])\n",
    "\n",
    "@app.callback(Output(\"out-all-types\", \"children\"), [Input(f\"input_{t}\", \"value\") for t in allowed_types])\n",
    "def cb_render(*vals):\n",
    "    return ' ~~ '.join((str(val) for val in vals if val))\n",
    "\n",
    "app"
   ]
  },
  {
   "cell_type": "code",
   "execution_count": 29,
   "metadata": {},
   "outputs": [
    {
     "data": {
      "text/html": [
       "<div>\n",
       "  <iframe src=\"/app/endpoints/57fa8484b1984ef79bc131735d4a1f84/\" width=800 height=150 frameborder=\"0\"></iframe>\n",
       "  \n",
       "</div>"
      ],
      "text/plain": [
       "<jupyter_plotly_dash.dash_wrapper.JupyterDash at 0x7fd5f99e08d0>"
      ]
     },
     "execution_count": 29,
     "metadata": {},
     "output_type": "execute_result"
    }
   ],
   "source": [
    "app = JupyterDash('input', height = 150)\n",
    "app.add_external_link = False\n",
    "app.layout = html.Div([\n",
    "    html.I('尝试分别在两个输入框中输入数据，观察回调中如何延迟显示'),\n",
    "    html.Br(),\n",
    "    html.Br(),\n",
    "    html.I('第2个输入框输入内容后，按下Enter键或鼠标点击非操作区，即可显示内容'),\n",
    "    html.Br(),\n",
    "    html.Br(),\n",
    "    dcc.Input(id = 'input1', type = 'text', placeholder = '北京'),\n",
    "    dcc.Input(id = 'input2', type = 'text', placeholder = '上海', debounce=True),\n",
    "    html.Div(id = 'output')\n",
    "])\n",
    "\n",
    "@app.callback(Output(\"output\", \"children\"), [Input(\"input1\", \"value\"), Input(\"input2\", \"value\")])\n",
    "def update_output(input1, input2):\n",
    "    return f\"输入框 1 输出：{input1}，输入框 2 输出：{input2}\"\n",
    "\n",
    "app"
   ]
  },
  {
   "cell_type": "code",
   "execution_count": 30,
   "metadata": {},
   "outputs": [
    {
     "data": {
      "text/html": [
       "<div>\n",
       "  <iframe src=\"/app/endpoints/e44dc40972f34f1d8c11cb23662bc0db/\" width=800 height=150 frameborder=\"0\"></iframe>\n",
       "  \n",
       "</div>"
      ],
      "text/plain": [
       "<jupyter_plotly_dash.dash_wrapper.JupyterDash at 0x7fd5f9a17a90>"
      ]
     },
     "execution_count": 30,
     "metadata": {},
     "output_type": "execute_result"
    }
   ],
   "source": [
    "app = JupyterDash('input', height = 150)\n",
    "app.add_external_link = False\n",
    "app.layout = html.Div([\n",
    "    dcc.Input(id = 'df', type = 'number', placeholder = '不延迟显示'),\n",
    "    dcc.Input(id = 'dt', type = 'number', debounce = True, placeholder = '延迟显示'),\n",
    "    dcc.Input(id = 'range', type = 'number', placeholder = '范围', min = 10, max = 100, step = 5),\n",
    "    html.Hr(),\n",
    "    html.Div(id = 'number-out')\n",
    "])\n",
    "\n",
    "@app.callback(Output('number-out', 'children'), [Input('df', 'value'), Input('dt', 'value'), Input('range', 'value')])\n",
    "def number_render(fval, tval, rangeval):\n",
    "    return f\"方框1: {fval}， 方框2: {tval}， 方框3: {rangeval}\"\n",
    "\n",
    "app"
   ]
  },
  {
   "cell_type": "code",
   "execution_count": 31,
   "metadata": {},
   "outputs": [
    {
     "data": {
      "text/html": [
       "<div>\n",
       "  <iframe src=\"/app/endpoints/4770797724ef477ca54c0574a6e01f2d/\" width=800 height=600 frameborder=\"0\"></iframe>\n",
       "  \n",
       "</div>"
      ],
      "text/plain": [
       "<jupyter_plotly_dash.dash_wrapper.JupyterDash at 0x7fd5f99eea90>"
      ]
     },
     "execution_count": 31,
     "metadata": {},
     "output_type": "execute_result"
    }
   ],
   "source": [
    "app = JupyterDash('input', height = 600)\n",
    "app.add_external_link = False\n",
    "app.layout = html.Div([\n",
    "    html.H2('选项卡示例', style = dict(textAlign='center')),\n",
    "    dcc.Tabs(\n",
    "        id = 'tabs-example',\n",
    "        value = 'tab-1',\n",
    "        children = [dcc.Tab(label = '选项卡一', value = 'tab-1'),\n",
    "                    dcc.Tab(label = '选项卡二', value = 'tab-2')]),\n",
    "    html.Div(id = 'tabs-demo')\n",
    "])\n",
    "\n",
    "@app.callback(Output('tabs-demo', 'children'), [Input('tabs-example', 'value')])\n",
    "def render_content(tab):\n",
    "    if tab == 'tab-1':\n",
    "        return html.Div([\n",
    "            html.H3('内容一'),\n",
    "            dcc.Graph(\n",
    "                id='graph-1-tabs',\n",
    "                figure = dict(data = [dict(x = [1, 2, 3], y = [3, 1, 2], type = 'bar')])\n",
    "            )\n",
    "        ])\n",
    "    else:\n",
    "        return html.Div([\n",
    "            html.H3('内容二'),\n",
    "            dcc.Graph(\n",
    "                id='graph-2-tabs',\n",
    "                figure = dict(data = [dict(x = [1, 2, 3], y = [5, 10, 6], type = 'bar')])\n",
    "            )\n",
    "        ])\n",
    "\n",
    "app"
   ]
  },
  {
   "cell_type": "code",
   "execution_count": 32,
   "metadata": {},
   "outputs": [
    {
     "data": {
      "text/html": [
       "<div>\n",
       "  <iframe src=\"/app/endpoints/49e5e6a2055a4a9e91c09791b4978feb/\" width=800 height=600 frameborder=\"0\"></iframe>\n",
       "  \n",
       "</div>"
      ],
      "text/plain": [
       "<jupyter_plotly_dash.dash_wrapper.JupyterDash at 0x7fd5f99af590>"
      ]
     },
     "execution_count": 32,
     "metadata": {},
     "output_type": "execute_result"
    }
   ],
   "source": [
    "app = JupyterDash('input', height = 600)\n",
    "app.add_external_link = False\n",
    "app.layout = html.Div([\n",
    "    dcc.Tabs(id = 'tabs', children = [\n",
    "        dcc.Tab(label = 'tab-1', children = [\n",
    "            html.Div([dcc.Graph(\n",
    "                id = 'graph-1',\n",
    "                figure = dict(data = [dict(x = [1, 2, 3], y = [4, 1, 2], type = 'bar', name = 'users'),\n",
    "                                      dict(x = [1, 2, 3], y = [2, 4, 5], type = 'bar', name = 'orders')]))])]),\n",
    "        dcc.Tab(label = 'tab-2', children = [\n",
    "            html.Div([dcc.Graph(\n",
    "                id = 'graph-2',\n",
    "                figure = dict(data = [dict(x = [1, 2, 3], y = [1, 4, 1], type = 'bar', name = 'users'),\n",
    "                                      dict(x = [1, 2, 3], y = [1, 2, 3], type = 'bar', name = 'orders')]))])]),\n",
    "        dcc.Tab(label = 'tab-3', children = [\n",
    "            html.Div([dcc.Graph(\n",
    "                id = 'graph-3',\n",
    "                figure = dict(data = [dict(x = [1, 2, 3], y = [2, 4, 3], type = 'bar', name = 'users'),\n",
    "                                      dict(x = [1, 2, 3], y = [5, 4, 3], type = 'bar', name = 'orders')])\n",
    "            )])\n",
    "        ]),\n",
    "    ])\n",
    "])\n",
    "\n",
    "app"
   ]
  },
  {
   "cell_type": "code",
   "execution_count": 33,
   "metadata": {},
   "outputs": [
    {
     "data": {
      "text/html": [
       "<div>\n",
       "  <iframe src=\"/app/endpoints/648103ead8724cfc952a97126920ec89/\" width=800 height=150 frameborder=\"0\"></iframe>\n",
       "  \n",
       "</div>"
      ],
      "text/plain": [
       "<jupyter_plotly_dash.dash_wrapper.JupyterDash at 0x7fd5f9a39c10>"
      ]
     },
     "execution_count": 33,
     "metadata": {},
     "output_type": "execute_result"
    }
   ],
   "source": [
    "app = JupyterDash('input', height = 150)\n",
    "app.add_external_link = False\n",
    "app.layout = html.Div([\n",
    "    dcc.Textarea(\n",
    "    placeholder='请输入内容...',\n",
    "    value='这是一个多行文本框的组件',\n",
    "    style={'width': '100%'}) \n",
    "])\n",
    "\n",
    "app"
   ]
  },
  {
   "cell_type": "code",
   "execution_count": 34,
   "metadata": {},
   "outputs": [
    {
     "data": {
      "text/html": [
       "<div>\n",
       "  <iframe src=\"/app/endpoints/2a6dfe4d430f439d87444fda8c34ab0a/\" width=800 height=150 frameborder=\"0\"></iframe>\n",
       "  \n",
       "</div>"
      ],
      "text/plain": [
       "<jupyter_plotly_dash.dash_wrapper.JupyterDash at 0x7fd5f9a392d0>"
      ]
     },
     "execution_count": 34,
     "metadata": {},
     "output_type": "execute_result"
    }
   ],
   "source": [
    "app = JupyterDash('input', height = 150)\n",
    "app.add_external_link = False\n",
    "app.layout = html.Div([ \n",
    "    dcc.Checklist(\n",
    "    options=[{'label': '北京', 'value': 'BJ'},\n",
    "             {'label': '上海', 'value': 'SHH'},\n",
    "             {'label': '深圳', 'value': 'SZ'}],\n",
    "    value=['BJ', 'SZ']\n",
    "    )\n",
    "])\n",
    "\n",
    "app"
   ]
  },
  {
   "cell_type": "code",
   "execution_count": 35,
   "metadata": {},
   "outputs": [
    {
     "data": {
      "text/html": [
       "<div>\n",
       "  <iframe src=\"/app/endpoints/86f8c09f5df34a92b50b73957fdbcac6/\" width=800 height=150 frameborder=\"0\"></iframe>\n",
       "  \n",
       "</div>"
      ],
      "text/plain": [
       "<jupyter_plotly_dash.dash_wrapper.JupyterDash at 0x7fd5f99c2e90>"
      ]
     },
     "execution_count": 35,
     "metadata": {},
     "output_type": "execute_result"
    }
   ],
   "source": [
    "app = JupyterDash('input', height = 150)\n",
    "app.add_external_link = False\n",
    "app.layout = html.Div([ \n",
    "    dcc.RadioItems(\n",
    "    options=[{'label': '北京', 'value': 'BJ'},\n",
    "             {'label': '上海', 'value': 'SHH'},\n",
    "             {'label': '深圳', 'value': 'SZ'}],\n",
    "    value='BJ',\n",
    "    )\n",
    "])\n",
    "\n",
    "app"
   ]
  },
  {
   "cell_type": "code",
   "execution_count": 36,
   "metadata": {},
   "outputs": [
    {
     "data": {
      "text/html": [
       "<div>\n",
       "  <iframe src=\"/app/endpoints/142666c2a88a4707a1fe650f8fb530d7/\" width=800 height=120 frameborder=\"0\"></iframe>\n",
       "  \n",
       "</div>"
      ],
      "text/plain": [
       "<jupyter_plotly_dash.dash_wrapper.JupyterDash at 0x7fd5f9a0b150>"
      ]
     },
     "execution_count": 36,
     "metadata": {},
     "output_type": "execute_result"
    }
   ],
   "source": [
    "app = JupyterDash('input', height = 120)\n",
    "app.add_external_link = False\n",
    "app.layout = html.Div([\n",
    "    html.Button('Buttons', id = 'button'),\n",
    "    html.Div(id = 'output-id')\n",
    "])\n",
    "\n",
    "@app.callback(Output('output-id', 'children'), [Input('button', 'n_clicks')])\n",
    "def update_output(n_clicks):\n",
    "    n_clicks = 0 if not n_clicks else n_clicks\n",
    "    return f\"你已点击按钮了{n_clicks}次\"\n",
    "\n",
    "app"
   ]
  },
  {
   "cell_type": "code",
   "execution_count": 37,
   "metadata": {},
   "outputs": [
    {
     "data": {
      "text/html": [
       "<div>\n",
       "  <iframe src=\"/app/endpoints/740a8cb1a4d845a4ac0882ebbd42e7b4/\" width=800 height=350 frameborder=\"0\"></iframe>\n",
       "  \n",
       "</div>"
      ],
      "text/plain": [
       "<jupyter_plotly_dash.dash_wrapper.JupyterDash at 0x7fd5f99d1b90>"
      ]
     },
     "execution_count": 37,
     "metadata": {},
     "output_type": "execute_result"
    }
   ],
   "source": [
    "import arrow as ar\n",
    "app = JupyterDash('input', height = 350)\n",
    "app.add_external_link = False\n",
    "\n",
    "app.layout = html.Div([\n",
    "    dcc.DatePickerSingle(\n",
    "        id='dt',\n",
    "        date='2019-06-01',\n",
    "        display_format = 'Y-MM-DD',\n",
    "        month_format = 'Y-MM',\n",
    "        first_day_of_week = 1,\n",
    "        min_date_allowed=ar.get(2019, 1, 1).date(),\n",
    "        max_date_allowed=ar.get(2019, 10, 1).date(),\n",
    "        clearable=True),\n",
    "    html.Div(id='output-dt')\n",
    "])\n",
    "\n",
    "@app.callback(Output('output-dt', 'children'), [Input('dt', 'date')])\n",
    "def update_output(date):\n",
    "    str_prefix = '您已选择 : ' if date else '暂无选择'\n",
    "    str_dt = ar.get(date).format('YYYY-MM-DD') if date else ''\n",
    "    return str_prefix + str_dt\n",
    "    \n",
    "app"
   ]
  },
  {
   "cell_type": "code",
   "execution_count": 40,
   "metadata": {},
   "outputs": [
    {
     "data": {
      "text/html": [
       "<div>\n",
       "  <iframe src=\"/app/endpoints/7ef3b4d751aa4ff38b848948501535ae/\" width=800 height=350 frameborder=\"0\"></iframe>\n",
       "  \n",
       "</div>"
      ],
      "text/plain": [
       "<jupyter_plotly_dash.dash_wrapper.JupyterDash at 0x7fd5f9a39110>"
      ]
     },
     "execution_count": 40,
     "metadata": {},
     "output_type": "execute_result"
    }
   ],
   "source": [
    "import arrow as ar\n",
    "app = JupyterDash('input', height = 350)\n",
    "app.add_external_link = False\n",
    "app.layout = html.Div([\n",
    "    dcc.DatePickerRange(\n",
    "        id='dt_range',\n",
    "        start_date=ar.get(2019, 1, 1).date(),\n",
    "        end_date_placeholder_text='选择日期',\n",
    "        display_format = 'Y-MM-DD',\n",
    "        month_format = 'Y-MM',\n",
    "        first_day_of_week = 1,\n",
    "        min_date_allowed=ar.get(2010, 1, 1).date(),\n",
    "        max_date_allowed=ar.get(2020, 10, 1).date()\n",
    "    ),\n",
    "    html.Div(id='output-dt')\n",
    "])\n",
    "\n",
    "app"
   ]
  },
  {
   "cell_type": "code",
   "execution_count": 41,
   "metadata": {},
   "outputs": [
    {
     "data": {
      "text/html": [
       "<div>\n",
       "  <iframe src=\"/app/endpoints/00d9c93ae3294c2e883c884288a1b4fd/\" width=800 height=350 frameborder=\"0\"></iframe>\n",
       "  \n",
       "</div>"
      ],
      "text/plain": [
       "<jupyter_plotly_dash.dash_wrapper.JupyterDash at 0x7fd5f9ace150>"
      ]
     },
     "execution_count": 41,
     "metadata": {},
     "output_type": "execute_result"
    }
   ],
   "source": [
    "app = JupyterDash('input', height = 350)\n",
    "app.add_external_link = False\n",
    "\n",
    "app.layout = html.Div([\n",
    "  dcc.Markdown('''\n",
    "    #### Dash and Markdown\n",
    "\n",
    "    Dash supports [Markdown](http://commonmark.org/help).\n",
    "\n",
    "    Markdown is a simple way to write and format text.\n",
    "    It includes a syntax for things like **bold text** and *italics*,\n",
    "    [links](http://commonmark.org/help), inline `code` snippets, lists,\n",
    "    quotes, and more.\n",
    "    ''')  \n",
    "])\n",
    "\n",
    "app"
   ]
  },
  {
   "cell_type": "code",
   "execution_count": null,
   "metadata": {},
   "outputs": [],
   "source": []
  }
 ],
 "metadata": {
  "kernelspec": {
   "display_name": "Python 3",
   "language": "python",
   "name": "python3"
  },
  "language_info": {
   "codemirror_mode": {
    "name": "ipython",
    "version": 3
   },
   "file_extension": ".py",
   "mimetype": "text/x-python",
   "name": "python",
   "nbconvert_exporter": "python",
   "pygments_lexer": "ipython3",
   "version": "3.7.4"
  }
 },
 "nbformat": 4,
 "nbformat_minor": 1
}
